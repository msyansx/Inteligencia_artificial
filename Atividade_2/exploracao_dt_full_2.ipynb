{
 "cells": [
  {
   "cell_type": "code",
   "execution_count": 1,
   "metadata": {},
   "outputs": [],
   "source": [
    "import pandas as pd\n",
    "import matplotlib.pyplot as plt\n",
    "import seaborn as sns\n",
    "import numpy as np\n",
    "import statsmodels.api as sm\n",
    "\n",
    "pd.set_option('display.max_columns', None)\n",
    "pd.set_option('display.max_rows', None)"
   ]
  },
  {
   "cell_type": "code",
   "execution_count": 2,
   "metadata": {},
   "outputs": [
    {
     "data": {
      "text/plain": [
       "(32, 12)"
      ]
     },
     "execution_count": 2,
     "metadata": {},
     "output_type": "execute_result"
    }
   ],
   "source": [
    "df = pd.read_csv('mtcars.csv')\n",
    "df.shape"
   ]
  },
  {
   "cell_type": "code",
   "execution_count": 3,
   "metadata": {},
   "outputs": [],
   "source": [
    "## Altera os nomes das colunas \n",
    "df.columns = ['modelo', 'mpg', 'cilindros', 'deslocamento', 'potencia', 'relacao', 'peso', 'tempo_1.4_milha', 'motor_em_v', 'transmissao_automattica', 'marchas', 'carburadores']"
   ]
  },
  {
   "cell_type": "code",
   "execution_count": 4,
   "metadata": {},
   "outputs": [
    {
     "data": {
      "text/html": [
       "<div>\n",
       "<style scoped>\n",
       "    .dataframe tbody tr th:only-of-type {\n",
       "        vertical-align: middle;\n",
       "    }\n",
       "\n",
       "    .dataframe tbody tr th {\n",
       "        vertical-align: top;\n",
       "    }\n",
       "\n",
       "    .dataframe thead th {\n",
       "        text-align: right;\n",
       "    }\n",
       "</style>\n",
       "<table border=\"1\" class=\"dataframe\">\n",
       "  <thead>\n",
       "    <tr style=\"text-align: right;\">\n",
       "      <th></th>\n",
       "      <th>mpg</th>\n",
       "      <th>cilindros</th>\n",
       "      <th>deslocamento</th>\n",
       "      <th>potencia</th>\n",
       "      <th>relacao</th>\n",
       "      <th>peso</th>\n",
       "      <th>tempo_1.4_milha</th>\n",
       "      <th>motor_em_v</th>\n",
       "      <th>transmissao_automattica</th>\n",
       "      <th>marchas</th>\n",
       "      <th>carburadores</th>\n",
       "    </tr>\n",
       "  </thead>\n",
       "  <tbody>\n",
       "    <tr>\n",
       "      <th>count</th>\n",
       "      <td>32.000000</td>\n",
       "      <td>32.000000</td>\n",
       "      <td>32.000000</td>\n",
       "      <td>32.000000</td>\n",
       "      <td>32.000000</td>\n",
       "      <td>32.000000</td>\n",
       "      <td>32.000000</td>\n",
       "      <td>32.000000</td>\n",
       "      <td>32.000000</td>\n",
       "      <td>32.000000</td>\n",
       "      <td>32.0000</td>\n",
       "    </tr>\n",
       "    <tr>\n",
       "      <th>mean</th>\n",
       "      <td>20.090625</td>\n",
       "      <td>6.187500</td>\n",
       "      <td>230.721875</td>\n",
       "      <td>146.687500</td>\n",
       "      <td>3.596563</td>\n",
       "      <td>3.217250</td>\n",
       "      <td>17.848750</td>\n",
       "      <td>0.437500</td>\n",
       "      <td>0.406250</td>\n",
       "      <td>3.687500</td>\n",
       "      <td>2.8125</td>\n",
       "    </tr>\n",
       "    <tr>\n",
       "      <th>std</th>\n",
       "      <td>6.026948</td>\n",
       "      <td>1.785922</td>\n",
       "      <td>123.938694</td>\n",
       "      <td>68.562868</td>\n",
       "      <td>0.534679</td>\n",
       "      <td>0.978457</td>\n",
       "      <td>1.786943</td>\n",
       "      <td>0.504016</td>\n",
       "      <td>0.498991</td>\n",
       "      <td>0.737804</td>\n",
       "      <td>1.6152</td>\n",
       "    </tr>\n",
       "    <tr>\n",
       "      <th>min</th>\n",
       "      <td>10.400000</td>\n",
       "      <td>4.000000</td>\n",
       "      <td>71.100000</td>\n",
       "      <td>52.000000</td>\n",
       "      <td>2.760000</td>\n",
       "      <td>1.513000</td>\n",
       "      <td>14.500000</td>\n",
       "      <td>0.000000</td>\n",
       "      <td>0.000000</td>\n",
       "      <td>3.000000</td>\n",
       "      <td>1.0000</td>\n",
       "    </tr>\n",
       "    <tr>\n",
       "      <th>25%</th>\n",
       "      <td>15.425000</td>\n",
       "      <td>4.000000</td>\n",
       "      <td>120.825000</td>\n",
       "      <td>96.500000</td>\n",
       "      <td>3.080000</td>\n",
       "      <td>2.581250</td>\n",
       "      <td>16.892500</td>\n",
       "      <td>0.000000</td>\n",
       "      <td>0.000000</td>\n",
       "      <td>3.000000</td>\n",
       "      <td>2.0000</td>\n",
       "    </tr>\n",
       "    <tr>\n",
       "      <th>50%</th>\n",
       "      <td>19.200000</td>\n",
       "      <td>6.000000</td>\n",
       "      <td>196.300000</td>\n",
       "      <td>123.000000</td>\n",
       "      <td>3.695000</td>\n",
       "      <td>3.325000</td>\n",
       "      <td>17.710000</td>\n",
       "      <td>0.000000</td>\n",
       "      <td>0.000000</td>\n",
       "      <td>4.000000</td>\n",
       "      <td>2.0000</td>\n",
       "    </tr>\n",
       "    <tr>\n",
       "      <th>75%</th>\n",
       "      <td>22.800000</td>\n",
       "      <td>8.000000</td>\n",
       "      <td>326.000000</td>\n",
       "      <td>180.000000</td>\n",
       "      <td>3.920000</td>\n",
       "      <td>3.610000</td>\n",
       "      <td>18.900000</td>\n",
       "      <td>1.000000</td>\n",
       "      <td>1.000000</td>\n",
       "      <td>4.000000</td>\n",
       "      <td>4.0000</td>\n",
       "    </tr>\n",
       "    <tr>\n",
       "      <th>max</th>\n",
       "      <td>33.900000</td>\n",
       "      <td>8.000000</td>\n",
       "      <td>472.000000</td>\n",
       "      <td>335.000000</td>\n",
       "      <td>4.930000</td>\n",
       "      <td>5.424000</td>\n",
       "      <td>22.900000</td>\n",
       "      <td>1.000000</td>\n",
       "      <td>1.000000</td>\n",
       "      <td>5.000000</td>\n",
       "      <td>8.0000</td>\n",
       "    </tr>\n",
       "  </tbody>\n",
       "</table>\n",
       "</div>"
      ],
      "text/plain": [
       "             mpg  cilindros  deslocamento    potencia    relacao       peso  \\\n",
       "count  32.000000  32.000000     32.000000   32.000000  32.000000  32.000000   \n",
       "mean   20.090625   6.187500    230.721875  146.687500   3.596563   3.217250   \n",
       "std     6.026948   1.785922    123.938694   68.562868   0.534679   0.978457   \n",
       "min    10.400000   4.000000     71.100000   52.000000   2.760000   1.513000   \n",
       "25%    15.425000   4.000000    120.825000   96.500000   3.080000   2.581250   \n",
       "50%    19.200000   6.000000    196.300000  123.000000   3.695000   3.325000   \n",
       "75%    22.800000   8.000000    326.000000  180.000000   3.920000   3.610000   \n",
       "max    33.900000   8.000000    472.000000  335.000000   4.930000   5.424000   \n",
       "\n",
       "       tempo_1.4_milha  motor_em_v  transmissao_automattica    marchas  \\\n",
       "count        32.000000   32.000000                32.000000  32.000000   \n",
       "mean         17.848750    0.437500                 0.406250   3.687500   \n",
       "std           1.786943    0.504016                 0.498991   0.737804   \n",
       "min          14.500000    0.000000                 0.000000   3.000000   \n",
       "25%          16.892500    0.000000                 0.000000   3.000000   \n",
       "50%          17.710000    0.000000                 0.000000   4.000000   \n",
       "75%          18.900000    1.000000                 1.000000   4.000000   \n",
       "max          22.900000    1.000000                 1.000000   5.000000   \n",
       "\n",
       "       carburadores  \n",
       "count       32.0000  \n",
       "mean         2.8125  \n",
       "std          1.6152  \n",
       "min          1.0000  \n",
       "25%          2.0000  \n",
       "50%          2.0000  \n",
       "75%          4.0000  \n",
       "max          8.0000  "
      ]
     },
     "execution_count": 4,
     "metadata": {},
     "output_type": "execute_result"
    }
   ],
   "source": [
    "df.describe() # Primeiras impressoes sobre o dataset"
   ]
  },
  {
   "cell_type": "code",
   "execution_count": 5,
   "metadata": {},
   "outputs": [
    {
     "data": {
      "text/html": [
       "<div>\n",
       "<style scoped>\n",
       "    .dataframe tbody tr th:only-of-type {\n",
       "        vertical-align: middle;\n",
       "    }\n",
       "\n",
       "    .dataframe tbody tr th {\n",
       "        vertical-align: top;\n",
       "    }\n",
       "\n",
       "    .dataframe thead th {\n",
       "        text-align: right;\n",
       "    }\n",
       "</style>\n",
       "<table border=\"1\" class=\"dataframe\">\n",
       "  <thead>\n",
       "    <tr style=\"text-align: right;\">\n",
       "      <th></th>\n",
       "      <th>mpg</th>\n",
       "      <th>cilindros</th>\n",
       "      <th>deslocamento</th>\n",
       "      <th>potencia</th>\n",
       "      <th>relacao</th>\n",
       "      <th>peso</th>\n",
       "      <th>tempo_1.4_milha</th>\n",
       "      <th>motor_em_v</th>\n",
       "      <th>transmissao_automattica</th>\n",
       "      <th>marchas</th>\n",
       "      <th>carburadores</th>\n",
       "    </tr>\n",
       "  </thead>\n",
       "  <tbody>\n",
       "    <tr>\n",
       "      <th>mpg</th>\n",
       "      <td>1.000000</td>\n",
       "      <td>-0.852162</td>\n",
       "      <td>-0.847551</td>\n",
       "      <td>-0.776168</td>\n",
       "      <td>0.681172</td>\n",
       "      <td>-0.867659</td>\n",
       "      <td>0.418684</td>\n",
       "      <td>0.664039</td>\n",
       "      <td>0.599832</td>\n",
       "      <td>0.480285</td>\n",
       "      <td>-0.550925</td>\n",
       "    </tr>\n",
       "    <tr>\n",
       "      <th>cilindros</th>\n",
       "      <td>-0.852162</td>\n",
       "      <td>1.000000</td>\n",
       "      <td>0.902033</td>\n",
       "      <td>0.832447</td>\n",
       "      <td>-0.699938</td>\n",
       "      <td>0.782496</td>\n",
       "      <td>-0.591242</td>\n",
       "      <td>-0.810812</td>\n",
       "      <td>-0.522607</td>\n",
       "      <td>-0.492687</td>\n",
       "      <td>0.526988</td>\n",
       "    </tr>\n",
       "    <tr>\n",
       "      <th>deslocamento</th>\n",
       "      <td>-0.847551</td>\n",
       "      <td>0.902033</td>\n",
       "      <td>1.000000</td>\n",
       "      <td>0.790949</td>\n",
       "      <td>-0.710214</td>\n",
       "      <td>0.887980</td>\n",
       "      <td>-0.433698</td>\n",
       "      <td>-0.710416</td>\n",
       "      <td>-0.591227</td>\n",
       "      <td>-0.555569</td>\n",
       "      <td>0.394977</td>\n",
       "    </tr>\n",
       "    <tr>\n",
       "      <th>potencia</th>\n",
       "      <td>-0.776168</td>\n",
       "      <td>0.832447</td>\n",
       "      <td>0.790949</td>\n",
       "      <td>1.000000</td>\n",
       "      <td>-0.448759</td>\n",
       "      <td>0.658748</td>\n",
       "      <td>-0.708223</td>\n",
       "      <td>-0.723097</td>\n",
       "      <td>-0.243204</td>\n",
       "      <td>-0.125704</td>\n",
       "      <td>0.749812</td>\n",
       "    </tr>\n",
       "    <tr>\n",
       "      <th>relacao</th>\n",
       "      <td>0.681172</td>\n",
       "      <td>-0.699938</td>\n",
       "      <td>-0.710214</td>\n",
       "      <td>-0.448759</td>\n",
       "      <td>1.000000</td>\n",
       "      <td>-0.712441</td>\n",
       "      <td>0.091205</td>\n",
       "      <td>0.440278</td>\n",
       "      <td>0.712711</td>\n",
       "      <td>0.699610</td>\n",
       "      <td>-0.090790</td>\n",
       "    </tr>\n",
       "    <tr>\n",
       "      <th>peso</th>\n",
       "      <td>-0.867659</td>\n",
       "      <td>0.782496</td>\n",
       "      <td>0.887980</td>\n",
       "      <td>0.658748</td>\n",
       "      <td>-0.712441</td>\n",
       "      <td>1.000000</td>\n",
       "      <td>-0.174716</td>\n",
       "      <td>-0.554916</td>\n",
       "      <td>-0.692495</td>\n",
       "      <td>-0.583287</td>\n",
       "      <td>0.427606</td>\n",
       "    </tr>\n",
       "    <tr>\n",
       "      <th>tempo_1.4_milha</th>\n",
       "      <td>0.418684</td>\n",
       "      <td>-0.591242</td>\n",
       "      <td>-0.433698</td>\n",
       "      <td>-0.708223</td>\n",
       "      <td>0.091205</td>\n",
       "      <td>-0.174716</td>\n",
       "      <td>1.000000</td>\n",
       "      <td>0.744535</td>\n",
       "      <td>-0.229861</td>\n",
       "      <td>-0.212682</td>\n",
       "      <td>-0.656249</td>\n",
       "    </tr>\n",
       "    <tr>\n",
       "      <th>motor_em_v</th>\n",
       "      <td>0.664039</td>\n",
       "      <td>-0.810812</td>\n",
       "      <td>-0.710416</td>\n",
       "      <td>-0.723097</td>\n",
       "      <td>0.440278</td>\n",
       "      <td>-0.554916</td>\n",
       "      <td>0.744535</td>\n",
       "      <td>1.000000</td>\n",
       "      <td>0.168345</td>\n",
       "      <td>0.206023</td>\n",
       "      <td>-0.569607</td>\n",
       "    </tr>\n",
       "    <tr>\n",
       "      <th>transmissao_automattica</th>\n",
       "      <td>0.599832</td>\n",
       "      <td>-0.522607</td>\n",
       "      <td>-0.591227</td>\n",
       "      <td>-0.243204</td>\n",
       "      <td>0.712711</td>\n",
       "      <td>-0.692495</td>\n",
       "      <td>-0.229861</td>\n",
       "      <td>0.168345</td>\n",
       "      <td>1.000000</td>\n",
       "      <td>0.794059</td>\n",
       "      <td>0.057534</td>\n",
       "    </tr>\n",
       "    <tr>\n",
       "      <th>marchas</th>\n",
       "      <td>0.480285</td>\n",
       "      <td>-0.492687</td>\n",
       "      <td>-0.555569</td>\n",
       "      <td>-0.125704</td>\n",
       "      <td>0.699610</td>\n",
       "      <td>-0.583287</td>\n",
       "      <td>-0.212682</td>\n",
       "      <td>0.206023</td>\n",
       "      <td>0.794059</td>\n",
       "      <td>1.000000</td>\n",
       "      <td>0.274073</td>\n",
       "    </tr>\n",
       "    <tr>\n",
       "      <th>carburadores</th>\n",
       "      <td>-0.550925</td>\n",
       "      <td>0.526988</td>\n",
       "      <td>0.394977</td>\n",
       "      <td>0.749812</td>\n",
       "      <td>-0.090790</td>\n",
       "      <td>0.427606</td>\n",
       "      <td>-0.656249</td>\n",
       "      <td>-0.569607</td>\n",
       "      <td>0.057534</td>\n",
       "      <td>0.274073</td>\n",
       "      <td>1.000000</td>\n",
       "    </tr>\n",
       "  </tbody>\n",
       "</table>\n",
       "</div>"
      ],
      "text/plain": [
       "                              mpg  cilindros  deslocamento  potencia  \\\n",
       "mpg                      1.000000  -0.852162     -0.847551 -0.776168   \n",
       "cilindros               -0.852162   1.000000      0.902033  0.832447   \n",
       "deslocamento            -0.847551   0.902033      1.000000  0.790949   \n",
       "potencia                -0.776168   0.832447      0.790949  1.000000   \n",
       "relacao                  0.681172  -0.699938     -0.710214 -0.448759   \n",
       "peso                    -0.867659   0.782496      0.887980  0.658748   \n",
       "tempo_1.4_milha          0.418684  -0.591242     -0.433698 -0.708223   \n",
       "motor_em_v               0.664039  -0.810812     -0.710416 -0.723097   \n",
       "transmissao_automattica  0.599832  -0.522607     -0.591227 -0.243204   \n",
       "marchas                  0.480285  -0.492687     -0.555569 -0.125704   \n",
       "carburadores            -0.550925   0.526988      0.394977  0.749812   \n",
       "\n",
       "                          relacao      peso  tempo_1.4_milha  motor_em_v  \\\n",
       "mpg                      0.681172 -0.867659         0.418684    0.664039   \n",
       "cilindros               -0.699938  0.782496        -0.591242   -0.810812   \n",
       "deslocamento            -0.710214  0.887980        -0.433698   -0.710416   \n",
       "potencia                -0.448759  0.658748        -0.708223   -0.723097   \n",
       "relacao                  1.000000 -0.712441         0.091205    0.440278   \n",
       "peso                    -0.712441  1.000000        -0.174716   -0.554916   \n",
       "tempo_1.4_milha          0.091205 -0.174716         1.000000    0.744535   \n",
       "motor_em_v               0.440278 -0.554916         0.744535    1.000000   \n",
       "transmissao_automattica  0.712711 -0.692495        -0.229861    0.168345   \n",
       "marchas                  0.699610 -0.583287        -0.212682    0.206023   \n",
       "carburadores            -0.090790  0.427606        -0.656249   -0.569607   \n",
       "\n",
       "                         transmissao_automattica   marchas  carburadores  \n",
       "mpg                                     0.599832  0.480285     -0.550925  \n",
       "cilindros                              -0.522607 -0.492687      0.526988  \n",
       "deslocamento                           -0.591227 -0.555569      0.394977  \n",
       "potencia                               -0.243204 -0.125704      0.749812  \n",
       "relacao                                 0.712711  0.699610     -0.090790  \n",
       "peso                                   -0.692495 -0.583287      0.427606  \n",
       "tempo_1.4_milha                        -0.229861 -0.212682     -0.656249  \n",
       "motor_em_v                              0.168345  0.206023     -0.569607  \n",
       "transmissao_automattica                 1.000000  0.794059      0.057534  \n",
       "marchas                                 0.794059  1.000000      0.274073  \n",
       "carburadores                            0.057534  0.274073      1.000000  "
      ]
     },
     "execution_count": 5,
     "metadata": {},
     "output_type": "execute_result"
    }
   ],
   "source": [
    "df.corr() #apresenta correlação entre variáveis "
   ]
  },
  {
   "cell_type": "code",
   "execution_count": 6,
   "metadata": {},
   "outputs": [
    {
     "data": {
      "text/plain": [
       "modelo                     0\n",
       "mpg                        0\n",
       "cilindros                  0\n",
       "deslocamento               0\n",
       "potencia                   0\n",
       "relacao                    0\n",
       "peso                       0\n",
       "tempo_1.4_milha            0\n",
       "motor_em_v                 0\n",
       "transmissao_automattica    0\n",
       "marchas                    0\n",
       "carburadores               0\n",
       "dtype: int64"
      ]
     },
     "execution_count": 6,
     "metadata": {},
     "output_type": "execute_result"
    }
   ],
   "source": [
    "df.isna().sum() # Checa dados faltantes"
   ]
  },
  {
   "cell_type": "code",
   "execution_count": 7,
   "metadata": {},
   "outputs": [
    {
     "data": {
      "text/plain": [
       "<seaborn.axisgrid.FacetGrid at 0x256f748a280>"
      ]
     },
     "execution_count": 7,
     "metadata": {},
     "output_type": "execute_result"
    },
    {
     "data": {
      "image/png": "[encoded data removed]",
      "text/plain": [
       "<Figure size 432x216 with 2 Axes>"
      ]
     },
     "metadata": {
      "needs_background": "light"
     },
     "output_type": "display_data"
    }
   ],
   "source": [
    "# Analise Exploratória\n",
    "g = sns.FacetGrid(df, col='motor_em_v')\n",
    "g.map(plt.hist, 'potencia', bins=10)"
   ]
  },
  {
   "cell_type": "code",
   "execution_count": 8,
   "metadata": {},
   "outputs": [
    {
     "data": {
      "text/plain": [
       "<seaborn.axisgrid.FacetGrid at 0x256f7686550>"
      ]
     },
     "execution_count": 8,
     "metadata": {},
     "output_type": "execute_result"
    },
    {
     "data": {
      "image/png": "[encoded data removed]",
      "text/plain": [
       "<Figure size 432x216 with 2 Axes>"
      ]
     },
     "metadata": {
      "needs_background": "light"
     },
     "output_type": "display_data"
    }
   ],
   "source": [
    "g = sns.FacetGrid(df, col='transmissao_automattica')\n",
    "g.map(plt.hist, 'mpg', bins=10)"
   ]
  },
  {
   "cell_type": "code",
   "execution_count": 9,
   "metadata": {},
   "outputs": [
    {
     "data": {
      "text/plain": [
       "<seaborn.axisgrid.FacetGrid at 0x256fdd3c910>"
      ]
     },
     "execution_count": 9,
     "metadata": {},
     "output_type": "execute_result"
    },
    {
     "data": {
      "image/png": "[encoded data removed]",
      "text/plain": [
       "<Figure size 432x216 with 2 Axes>"
      ]
     },
     "metadata": {
      "needs_background": "light"
     },
     "output_type": "display_data"
    }
   ],
   "source": [
    "g = sns.FacetGrid(df, col='transmissao_automattica')\n",
    "g.map(plt.hist, 'potencia', bins=10)"
   ]
  },
  {
   "cell_type": "code",
   "execution_count": 10,
   "metadata": {},
   "outputs": [
    {
     "data": {
      "text/plain": [
       "<seaborn.axisgrid.FacetGrid at 0x256fdccc460>"
      ]
     },
     "execution_count": 10,
     "metadata": {},
     "output_type": "execute_result"
    },
    {
     "data": {
      "image/png": "[encoded data removed]",
      "text/plain": [
       "<Figure size 1296x216 with 6 Axes>"
      ]
     },
     "metadata": {
      "needs_background": "light"
     },
     "output_type": "display_data"
    }
   ],
   "source": [
    "g = sns.FacetGrid(df, col='carburadores')\n",
    "g.map(plt.hist, 'potencia', bins=10)"
   ]
  },
  {
   "cell_type": "code",
   "execution_count": 11,
   "metadata": {},
   "outputs": [
    {
     "data": {
      "text/plain": [
       "<seaborn.axisgrid.FacetGrid at 0x256feee9b50>"
      ]
     },
     "execution_count": 11,
     "metadata": {},
     "output_type": "execute_result"
    },
    {
     "data": {
      "image/png": "[encoded data removed]",
      "text/plain": [
       "<Figure size 648x216 with 3 Axes>"
      ]
     },
     "metadata": {
      "needs_background": "light"
     },
     "output_type": "display_data"
    }
   ],
   "source": [
    "g = sns.FacetGrid(df, col='marchas')\n",
    "g.map(plt.hist, 'potencia', bins=10)"
   ]
  },
  {
   "cell_type": "code",
   "execution_count": 12,
   "metadata": {},
   "outputs": [
    {
     "data": {
      "image/png": "[encoded data removed]",
      "text/plain": [
       "<Figure size 432x288 with 2 Axes>"
      ]
     },
     "metadata": {
      "needs_background": "light"
     },
     "output_type": "display_data"
    }
   ],
   "source": [
    "sns.heatmap(df.corr(), \n",
    "            annot= False,\n",
    "            fmt = '.2f', \n",
    "            cmap='Blues')\n",
    "plt.title('Correlação entre variáveis do dataset Mtcars')\n",
    "plt.show()"
   ]
  },
  {
   "cell_type": "code",
   "execution_count": 13,
   "metadata": {},
   "outputs": [],
   "source": [
    "# Modelo de regressão simples \n",
    "\n",
    "X = df['potencia']\n",
    "y = df['mpg']"
   ]
  },
  {
   "cell_type": "code",
   "execution_count": 14,
   "metadata": {},
   "outputs": [],
   "source": [
    "simple_reg = sm.OLS(y, sm.add_constant(X)).fit()"
   ]
  },
  {
   "cell_type": "code",
   "execution_count": 15,
   "metadata": {},
   "outputs": [
    {
     "name": "stdout",
     "output_type": "stream",
     "text": [
      "                            OLS Regression Results                            \n",
      "==============================================================================\n",
      "Dep. Variable:                    mpg   R-squared:                       0.602\n",
      "Model:                            OLS   Adj. R-squared:                  0.589\n",
      "Method:                 Least Squares   F-statistic:                     45.46\n",
      "Date:                Fri, 30 Sep 2022   Prob (F-statistic):           1.79e-07\n",
      "Time:                        20:00:50   Log-Likelihood:                -87.619\n",
      "No. Observations:                  32   AIC:                             179.2\n",
      "Df Residuals:                      30   BIC:                             182.2\n",
      "Df Model:                           1                                         \n",
      "Covariance Type:            nonrobust                                         \n",
      "==============================================================================\n",
      "                 coef    std err          t      P>|t|      [0.025      0.975]\n",
      "------------------------------------------------------------------------------\n",
      "const         30.0989      1.634     18.421      0.000      26.762      33.436\n",
      "potencia      -0.0682      0.010     -6.742      0.000      -0.089      -0.048\n",
      "==============================================================================\n",
      "Omnibus:                        3.692   Durbin-Watson:                   1.134\n",
      "Prob(Omnibus):                  0.158   Jarque-Bera (JB):                2.984\n",
      "Skew:                           0.747   Prob(JB):                        0.225\n",
      "Kurtosis:                       2.935   Cond. No.                         386.\n",
      "==============================================================================\n",
      "\n",
      "Notes:\n",
      "[1] Standard Errors assume that the covariance matrix of the errors is correctly specified.\n"
     ]
    }
   ],
   "source": [
    "print(simple_reg.summary())"
   ]
  },
  {
   "cell_type": "code",
   "execution_count": 16,
   "metadata": {},
   "outputs": [
    {
     "data": {
      "image/png": "[encoded data removed]",
      "text/plain": [
       "<Figure size 576x288 with 1 Axes>"
      ]
     },
     "metadata": {
      "needs_background": "light"
     },
     "output_type": "display_data"
    }
   ],
   "source": [
    "plt.figure(figsize=(8,4))\n",
    "plt.scatter(X,y)\n",
    "plt.plot(X, simple_reg.predict(), color='r')\n",
    "plt.xlabel('Potencia')\n",
    "plt.ylabel('Milhas por galão')\n",
    "plt.show()"
   ]
  },
  {
   "cell_type": "code",
   "execution_count": 17,
   "metadata": {},
   "outputs": [],
   "source": [
    "# Regressão multipla \n",
    "X = df[['potencia', 'cilindros', 'relacao', 'motor_em_v']]\n",
    "y = df['mpg']"
   ]
  },
  {
   "cell_type": "code",
   "execution_count": 18,
   "metadata": {},
   "outputs": [],
   "source": [
    "multi_reg = sm.OLS(y, sm.add_constant(X)).fit()"
   ]
  },
  {
   "cell_type": "code",
   "execution_count": null,
   "metadata": {},
   "outputs": [],
   "source": [
    "print(multi_reg.summary())"
   ]
  },
  {
   "cell_type": "markdown",
   "metadata": {},
   "source": [
    "## Exercício de hoje\n",
    "# Busquem evoluir este modelo com a combinação de variáveis que acharem melhor. Quanto maior o R² melhor, podem alterar as variaveis, combinar e tratar da maneira que acharem melhor.\n",
    "\n",
    "\n",
    "#### VOU USAR A MESMA LINHAGEM QUE O PROFESSOR E DAR CONTINUIDADE...\n",
    "\n",
    "## META É 0.93 DE R²"
   ]
  },
  {
   "cell_type": "code",
   "execution_count": 20,
   "metadata": {},
   "outputs": [],
   "source": [
    "# Modelo 1\n",
    "X = df[['peso', 'cilindros', 'potencia', 'relacao', 'motor_em_v']]\n",
    "y = df['mpg']"
   ]
  },
  {
   "cell_type": "code",
   "execution_count": 21,
   "metadata": {},
   "outputs": [],
   "source": [
    "model1= sm.OLS(y, sm.add_constant(X)).fit()"
   ]
  },
  {
   "cell_type": "code",
   "execution_count": 22,
   "metadata": {},
   "outputs": [
    {
     "name": "stdout",
     "output_type": "stream",
     "text": [
      "                            OLS Regression Results                            \n",
      "==============================================================================\n",
      "Dep. Variable:                    mpg   R-squared:                       0.845\n",
      "Model:                            OLS   Adj. R-squared:                  0.816\n",
      "Method:                 Least Squares   F-statistic:                     28.44\n",
      "Date:                Fri, 30 Sep 2022   Prob (F-statistic):           9.22e-10\n",
      "Time:                        20:03:34   Log-Likelihood:                -72.504\n",
      "No. Observations:                  32   AIC:                             157.0\n",
      "Df Residuals:                      26   BIC:                             165.8\n",
      "Df Model:                           5                                         \n",
      "Covariance Type:            nonrobust                                         \n",
      "==============================================================================\n",
      "                 coef    std err          t      P>|t|      [0.025      0.975]\n",
      "------------------------------------------------------------------------------\n",
      "const         33.5289      8.778      3.820      0.001      15.486      51.572\n",
      "peso          -2.9971      0.840     -3.568      0.001      -4.724      -1.270\n",
      "cilindros     -0.6619      0.794     -0.834      0.412      -2.293       0.970\n",
      "potencia      -0.0207      0.013     -1.564      0.130      -0.048       0.006\n",
      "relacao        0.8823      1.443      0.612      0.546      -2.083       3.848\n",
      "motor_em_v     0.3642      1.670      0.218      0.829      -3.068       3.797\n",
      "==============================================================================\n",
      "Omnibus:                        5.287   Durbin-Watson:                   1.766\n",
      "Prob(Omnibus):                  0.071   Jarque-Bera (JB):                4.160\n",
      "Skew:                           0.876   Prob(JB):                        0.125\n",
      "Kurtosis:                       3.232   Cond. No.                     3.16e+03\n",
      "==============================================================================\n",
      "\n",
      "Notes:\n",
      "[1] Standard Errors assume that the covariance matrix of the errors is correctly specified.\n",
      "[2] The condition number is large, 3.16e+03. This might indicate that there are\n",
      "strong multicollinearity or other numerical problems.\n"
     ]
    }
   ],
   "source": [
    "print(model1.summary())"
   ]
  },
  {
   "cell_type": "code",
   "execution_count": 23,
   "metadata": {},
   "outputs": [],
   "source": [
    "# model 2 com todas as variáveis e variável modelo transformada\n",
    "df['modelo'] = df['modelo'].astype('category')\n",
    "df['modelo'] = df['modelo'].cat.codes\n",
    "\n",
    "X = df.drop('mpg', axis=1)\n",
    "y = df['mpg']"
   ]
  },
  {
   "cell_type": "code",
   "execution_count": 24,
   "metadata": {},
   "outputs": [],
   "source": [
    "model2= sm.OLS(y, sm.add_constant(X)).fit()"
   ]
  },
  {
   "cell_type": "code",
   "execution_count": 25,
   "metadata": {},
   "outputs": [
    {
     "name": "stdout",
     "output_type": "stream",
     "text": [
      "                            OLS Regression Results                            \n",
      "==============================================================================\n",
      "Dep. Variable:                    mpg   R-squared:                       0.870\n",
      "Model:                            OLS   Adj. R-squared:                  0.798\n",
      "Method:                 Least Squares   F-statistic:                     12.13\n",
      "Date:                Fri, 30 Sep 2022   Prob (F-statistic):           1.42e-06\n",
      "Time:                        20:04:11   Log-Likelihood:                -69.776\n",
      "No. Observations:                  32   AIC:                             163.6\n",
      "Df Residuals:                      20   BIC:                             181.1\n",
      "Df Model:                          11                                         \n",
      "Covariance Type:            nonrobust                                         \n",
      "===========================================================================================\n",
      "                              coef    std err          t      P>|t|      [0.025      0.975]\n",
      "-------------------------------------------------------------------------------------------\n",
      "const                      12.7147     19.177      0.663      0.515     -27.289      52.718\n",
      "modelo                      0.0191      0.061      0.315      0.756      -0.107       0.145\n",
      "cilindros                  -0.1336      1.071     -0.125      0.902      -2.367       2.099\n",
      "deslocamento                0.0152      0.019      0.792      0.438      -0.025       0.055\n",
      "potencia                   -0.0227      0.023     -1.005      0.327      -0.070       0.024\n",
      "relacao                     0.7977      1.672      0.477      0.638      -2.690       4.285\n",
      "peso                       -3.7980      1.954     -1.944      0.066      -7.874       0.278\n",
      "tempo_1.4_milha             0.7899      0.754      1.048      0.307      -0.782       2.362\n",
      "motor_em_v                  0.4284      2.180      0.197      0.846      -4.118       4.975\n",
      "transmissao_automattica     2.6145      2.124      1.231      0.233      -1.815       7.044\n",
      "marchas                     0.5893      1.541      0.382      0.706      -2.625       3.803\n",
      "carburadores               -0.1547      0.859     -0.180      0.859      -1.946       1.637\n",
      "==============================================================================\n",
      "Omnibus:                        2.032   Durbin-Watson:                   1.843\n",
      "Prob(Omnibus):                  0.362   Jarque-Bera (JB):                1.789\n",
      "Skew:                           0.551   Prob(JB):                        0.409\n",
      "Kurtosis:                       2.643   Cond. No.                     1.23e+04\n",
      "==============================================================================\n",
      "\n",
      "Notes:\n",
      "[1] Standard Errors assume that the covariance matrix of the errors is correctly specified.\n",
      "[2] The condition number is large, 1.23e+04. This might indicate that there are\n",
      "strong multicollinearity or other numerical problems.\n"
     ]
    }
   ],
   "source": [
    "print(model2.summary())"
   ]
  },
  {
   "cell_type": "code",
   "execution_count": 26,
   "metadata": {},
   "outputs": [],
   "source": [
    "# Model 3 \n",
    "df_copy = df.copy "
   ]
  },
  {
   "cell_type": "code",
   "execution_count": 27,
   "metadata": {},
   "outputs": [],
   "source": [
    "import numpy as np\n",
    "# Trasnformação das variáveis usando logaritmo\n",
    "df['peso'] = np.log(df['peso'])\n",
    "df['deslocamento'] = np.log(df['deslocamento'])\n",
    "df['potencia'] = np.log(df['potencia'])"
   ]
  },
  {
   "cell_type": "code",
   "execution_count": 28,
   "metadata": {},
   "outputs": [],
   "source": [
    "X = df.drop('mpg', axis=1)\n",
    "y = df['mpg']"
   ]
  },
  {
   "cell_type": "code",
   "execution_count": 29,
   "metadata": {},
   "outputs": [],
   "source": [
    "model3 = sm.OLS(y, sm.add_constant(X)).fit()"
   ]
  },
  {
   "cell_type": "code",
   "execution_count": null,
   "metadata": {},
   "outputs": [],
   "source": [
    "print(model3.summary())"
   ]
  },
  {
   "cell_type": "code",
   "execution_count": 31,
   "metadata": {},
   "outputs": [],
   "source": [
    "# Model 4\n",
    "\n",
    "df['relacao_peso_potencia']   = df['peso']/df['potencia']\n",
    "df['relacao_peso_carb']       = df['peso']/df['carburadores']\n",
    "df['relacao_peso_cilindros']  = df['peso']/df['cilindros']"
   ]
  },
  {
   "cell_type": "code",
   "execution_count": 32,
   "metadata": {},
   "outputs": [],
   "source": [
    "X = df.drop('mpg', axis=1)\n",
    "y = df['mpg']"
   ]
  },
  {
   "cell_type": "code",
   "execution_count": 33,
   "metadata": {},
   "outputs": [],
   "source": [
    "model4 = sm.OLS(y, sm.add_constant(X)).fit()"
   ]
  },
  {
   "cell_type": "code",
   "execution_count": 34,
   "metadata": {},
   "outputs": [
    {
     "name": "stdout",
     "output_type": "stream",
     "text": [
      "                            OLS Regression Results                            \n",
      "==============================================================================\n",
      "Dep. Variable:                    mpg   R-squared:                       0.908\n",
      "Model:                            OLS   Adj. R-squared:                  0.832\n",
      "Method:                 Least Squares   F-statistic:                     11.98\n",
      "Date:                Fri, 30 Sep 2022   Prob (F-statistic):           3.65e-06\n",
      "Time:                        20:05:15   Log-Likelihood:                -64.213\n",
      "No. Observations:                  32   AIC:                             158.4\n",
      "Df Residuals:                      17   BIC:                             180.4\n",
      "Df Model:                          14                                         \n",
      "Covariance Type:            nonrobust                                         \n",
      "===========================================================================================\n",
      "                              coef    std err          t      P>|t|      [0.025      0.975]\n",
      "-------------------------------------------------------------------------------------------\n",
      "const                      69.9643     56.982      1.228      0.236     -50.256     190.185\n",
      "modelo                      0.0304      0.055      0.551      0.589      -0.086       0.147\n",
      "cilindros                   0.8352      2.703      0.309      0.761      -4.868       6.538\n",
      "deslocamento               -1.9937      4.098     -0.486      0.633     -10.641       6.653\n",
      "potencia                   -9.7320     11.596     -0.839      0.413     -34.198      14.734\n",
      "relacao                    -0.5065      2.314     -0.219      0.829      -5.389       4.376\n",
      "peso                       17.1467     36.415      0.471      0.644     -59.682      93.975\n",
      "tempo_1.4_milha             0.3791      0.837      0.453      0.656      -1.386       2.145\n",
      "motor_em_v                 -0.1645      2.389     -0.069      0.946      -5.206       4.876\n",
      "transmissao_automattica    -0.0430      2.625     -0.016      0.987      -5.581       5.496\n",
      "marchas                     2.1806      1.827      1.193      0.249      -1.674       6.036\n",
      "carburadores               -0.5107      0.797     -0.641      0.530      -2.192       1.171\n",
      "relacao_peso_potencia    -128.1588    222.436     -0.576      0.572    -597.457     341.139\n",
      "relacao_peso_carb           0.4657      4.052      0.115      0.910      -8.084       9.015\n",
      "relacao_peso_cilindros      3.9309     77.670      0.051      0.960    -159.939     167.801\n",
      "==============================================================================\n",
      "Omnibus:                        2.743   Durbin-Watson:                   2.116\n",
      "Prob(Omnibus):                  0.254   Jarque-Bera (JB):                2.480\n",
      "Skew:                           0.635   Prob(JB):                        0.289\n",
      "Kurtosis:                       2.503   Cond. No.                     1.48e+04\n",
      "==============================================================================\n",
      "\n",
      "Notes:\n",
      "[1] Standard Errors assume that the covariance matrix of the errors is correctly specified.\n",
      "[2] The condition number is large, 1.48e+04. This might indicate that there are\n",
      "strong multicollinearity or other numerical problems.\n"
     ]
    }
   ],
   "source": [
    "print(model4.summary())"
   ]
  },
  {
   "cell_type": "markdown",
   "metadata": {},
   "source": [
    "## ATÉ AQUI FOI O PROFESSOR\n"
   ]
  },
  {
   "cell_type": "code",
   "execution_count": 39,
   "metadata": {},
   "outputs": [],
   "source": [
    "# Model 5\n",
    "\n",
    "df['relacao_deslocamento_marchas']   = df['deslocamento']*df['marchas'] # Possivel media de deslocamento baseado na quantidade de marchas do veiculo\n",
    "df['relacao_relacao_potencia']       = df['relacao']+df['potencia'] # Relação do veículo (imagino que seja a relação do motor) agregando à potencia\n"
   ]
  },
  {
   "cell_type": "code",
   "execution_count": 40,
   "metadata": {},
   "outputs": [],
   "source": [
    "X = df.drop('mpg', axis=1)\n",
    "y = df['mpg']"
   ]
  },
  {
   "cell_type": "code",
   "execution_count": 46,
   "metadata": {},
   "outputs": [],
   "source": [
    "model5 = sm.OLS(y, sm.add_constant(X)).fit()"
   ]
  },
  {
   "cell_type": "code",
   "execution_count": 47,
   "metadata": {},
   "outputs": [
    {
     "name": "stdout",
     "output_type": "stream",
     "text": [
      "                            OLS Regression Results                            \n",
      "==============================================================================\n",
      "Dep. Variable:                    mpg   R-squared:                       0.926\n",
      "Model:                            OLS   Adj. R-squared:                  0.856\n",
      "Method:                 Least Squares   F-statistic:                     13.25\n",
      "Date:                Fri, 30 Sep 2022   Prob (F-statistic):           2.70e-06\n",
      "Time:                        20:17:07   Log-Likelihood:                -60.823\n",
      "No. Observations:                  32   AIC:                             153.6\n",
      "Df Residuals:                      16   BIC:                             177.1\n",
      "Df Model:                          15                                         \n",
      "Covariance Type:            nonrobust                                         \n",
      "================================================================================================\n",
      "                                   coef    std err          t      P>|t|      [0.025      0.975]\n",
      "------------------------------------------------------------------------------------------------\n",
      "const                          -79.4523     93.300     -0.852      0.407    -277.239     118.334\n",
      "modelo                           0.0651      0.054      1.200      0.248      -0.050       0.180\n",
      "cilindros                        3.9401      2.972      1.326      0.204      -2.361      10.241\n",
      "deslocamento                    17.2824     10.624      1.627      0.123      -5.239      39.804\n",
      "potencia                        -5.8112      6.767     -0.859      0.403     -20.156       8.534\n",
      "relacao                          3.9957      3.006      1.329      0.202      -2.377      10.368\n",
      "peso                            -6.2229     35.841     -0.174      0.864     -82.203      69.758\n",
      "tempo_1.4_milha                  0.6689      0.790      0.847      0.410      -1.006       2.344\n",
      "motor_em_v                       1.3129      2.342      0.561      0.583      -3.652       6.278\n",
      "transmissao_automattica          1.1230      2.507      0.448      0.660      -4.191       6.437\n",
      "marchas                         28.9879     13.900      2.085      0.053      -0.480      58.455\n",
      "carburadores                     0.4223      0.881      0.479      0.638      -1.446       2.290\n",
      "relacao_peso_potencia          -75.0251    208.043     -0.361      0.723    -516.056     366.006\n",
      "relacao_peso_carb                5.3869      4.531      1.189      0.252      -4.219      14.993\n",
      "relacao_peso_cilindros          60.7736     77.730      0.782      0.446    -104.006     225.553\n",
      "relacao_deslocamento_marchas    -5.1292      2.640     -1.943      0.070     -10.725       0.467\n",
      "relacao_relacao_potencia        -1.8154      4.137     -0.439      0.667     -10.586       6.955\n",
      "==============================================================================\n",
      "Omnibus:                        1.722   Durbin-Watson:                   2.084\n",
      "Prob(Omnibus):                  0.423   Jarque-Bera (JB):                1.569\n",
      "Skew:                           0.499   Prob(JB):                        0.456\n",
      "Kurtosis:                       2.576   Cond. No.                     4.25e+16\n",
      "==============================================================================\n",
      "\n",
      "Notes:\n",
      "[1] Standard Errors assume that the covariance matrix of the errors is correctly specified.\n",
      "[2] The smallest eigenvalue is 2.04e-29. This might indicate that there are\n",
      "strong multicollinearity problems or that the design matrix is singular.\n"
     ]
    }
   ],
   "source": [
    "print(model5.summary())"
   ]
  },
  {
   "cell_type": "code",
   "execution_count": 52,
   "metadata": {},
   "outputs": [],
   "source": [
    "# Model 6\n",
    "\n",
    "df['relacao_motor_em_v__tempo_1.4_milha']   = df['motor_em_v']*df['tempo_1.4_milha'] # Valorização do motor em 1/4 milhas\n",
    "df['relacao_cilindros_potencia'] = df['cilindros']*df['potencia'] # Cilindradas do veículo para melhorar a potência"
   ]
  },
  {
   "cell_type": "code",
   "execution_count": 53,
   "metadata": {},
   "outputs": [],
   "source": [
    "X = df.drop('mpg', axis=1)\n",
    "y = df['mpg']"
   ]
  },
  {
   "cell_type": "code",
   "execution_count": 54,
   "metadata": {},
   "outputs": [],
   "source": [
    "model6 = sm.OLS(y, sm.add_constant(X)).fit()"
   ]
  },
  {
   "cell_type": "code",
   "execution_count": 55,
   "metadata": {},
   "outputs": [
    {
     "name": "stdout",
     "output_type": "stream",
     "text": [
      "                            OLS Regression Results                            \n",
      "==============================================================================\n",
      "Dep. Variable:                    mpg   R-squared:                       0.947\n",
      "Model:                            OLS   Adj. R-squared:                  0.882\n",
      "Method:                 Least Squares   F-statistic:                     14.67\n",
      "Date:                Fri, 30 Sep 2022   Prob (F-statistic):           3.97e-06\n",
      "Time:                        20:20:43   Log-Likelihood:                -55.420\n",
      "No. Observations:                  32   AIC:                             146.8\n",
      "Df Residuals:                      14   BIC:                             173.2\n",
      "Df Model:                          17                                         \n",
      "Covariance Type:            nonrobust                                         \n",
      "=======================================================================================================\n",
      "                                          coef    std err          t      P>|t|      [0.025      0.975]\n",
      "-------------------------------------------------------------------------------------------------------\n",
      "const                                 -96.4931     99.028     -0.974      0.346    -308.887     115.900\n",
      "modelo                                  0.0688      0.050      1.374      0.191      -0.039       0.176\n",
      "cilindros                             -12.9885      7.734     -1.679      0.115     -29.576       3.599\n",
      "deslocamento                           17.3693      9.786      1.775      0.098      -3.619      38.357\n",
      "potencia                               -1.4611      6.431     -0.227      0.824     -15.254      12.332\n",
      "relacao                                 2.3278      2.834      0.821      0.425      -3.751       8.407\n",
      "peso                                  -74.1856     47.987     -1.546      0.144    -177.107      28.736\n",
      "tempo_1.4_milha                         1.1585      1.519      0.763      0.458      -2.100       4.417\n",
      "motor_em_v                             -1.3917     25.360     -0.055      0.957     -55.783      53.000\n",
      "transmissao_automattica                 2.1401      2.328      0.919      0.374      -2.853       7.134\n",
      "marchas                                30.1673     12.690      2.377      0.032       2.951      57.384\n",
      "carburadores                            0.0031      1.033      0.003      0.998      -2.213       2.220\n",
      "relacao_peso_potencia                 380.8194    278.583      1.367      0.193    -216.681     978.320\n",
      "relacao_peso_carb                       4.2783      5.438      0.787      0.445      -7.385      15.942\n",
      "relacao_peso_cilindros                -78.3757     92.445     -0.848      0.411    -276.651     119.900\n",
      "relacao_deslocamento_marchas           -5.5949      2.414     -2.318      0.036     -10.773      -0.417\n",
      "relacao_relacao_potencia                0.8667      4.092      0.212      0.835      -7.909       9.643\n",
      "relacao_motor_em_v__tempo_1.4_milha     0.0606      1.475      0.041      0.968      -3.102       3.223\n",
      "relacao_cilindros_potencia              2.5716      1.150      2.236      0.042       0.105       5.038\n",
      "==============================================================================\n",
      "Omnibus:                        0.053   Durbin-Watson:                   2.068\n",
      "Prob(Omnibus):                  0.974   Jarque-Bera (JB):                0.165\n",
      "Skew:                           0.085   Prob(JB):                        0.921\n",
      "Kurtosis:                       2.692   Cond. No.                     4.40e+17\n",
      "==============================================================================\n",
      "\n",
      "Notes:\n",
      "[1] Standard Errors assume that the covariance matrix of the errors is correctly specified.\n",
      "[2] The smallest eigenvalue is 3.64e-31. This might indicate that there are\n",
      "strong multicollinearity problems or that the design matrix is singular.\n"
     ]
    }
   ],
   "source": [
    "print(model6.summary())"
   ]
  }
 ],
 "metadata": {
  "kernelspec": {
   "display_name": "Python 3.9.12 ('base')",
   "language": "python",
   "name": "python3"
  },
  "language_info": {
   "codemirror_mode": {
    "name": "ipython",
    "version": 3
   },
   "file_extension": ".py",
   "mimetype": "text/x-python",
   "name": "python",
   "nbconvert_exporter": "python",
   "pygments_lexer": "ipython3",
   "version": "3.9.12"
  },
  "orig_nbformat": 4,
  "vscode": {
   "interpreter": {
    "hash": "b249be95f1d6f7e4e8daa21c71b6be50d75ee7d9a4b25a4938a927eac1cf4f8a"
   }
  }
 },
 "nbformat": 4,
 "nbformat_minor": 2
}
