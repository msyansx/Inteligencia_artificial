{
 "cells": [
  {
   "cell_type": "code",
   "execution_count": 2,
   "metadata": {},
   "outputs": [],
   "source": [
    "import pandas as pd"
   ]
  },
  {
   "cell_type": "code",
   "execution_count": null,
   "metadata": {},
   "outputs": [],
   "source": [
    "dt1 = pd.read_csv('../Arquivos/reclamacoes-fundamentadas-sindec-2012.csv')\n",
    "dt2 = pd.read_csv('../Arquivos/reclamacoes-fundamentadas-sindec-2013.csv')\n",
    "dt3 = pd.read_csv('../Arquivos/reclamacoes-fundamentadas-sindec-2014.csv')\n",
    "dt4 = pd.read_csv('../Arquivos/reclamacoes-fundamentadas-sindec-2015.csv')\n",
    "dt5 = pd.read_csv('../Arquivos/reclamacoes-fundamentadas-sindec-2016.csv')\n"
   ]
  },
  {
   "cell_type": "code",
   "execution_count": 8,
   "metadata": {},
   "outputs": [],
   "source": [
    "dts = [dt1, dt2, dt3, dt4, dt5]\n",
    "dt_full = pd.concat(dts)"
   ]
  },
  {
   "cell_type": "code",
   "execution_count": 9,
   "metadata": {},
   "outputs": [
    {
     "data": {
      "text/plain": [
       "(1206072, 23)"
      ]
     },
     "execution_count": 9,
     "metadata": {},
     "output_type": "execute_result"
    }
   ],
   "source": [
    "dt_full.shape"
   ]
  },
  {
   "cell_type": "code",
   "execution_count": 10,
   "metadata": {},
   "outputs": [],
   "source": [
    "dt_full.to_csv('../Datasets/csv_merge_dataset.csv')"
   ]
  }
 ],
 "metadata": {
  "kernelspec": {
   "display_name": "Python 3.10.2 64-bit",
   "language": "python",
   "name": "python3"
  },
  "language_info": {
   "codemirror_mode": {
    "name": "ipython",
    "version": 3
   },
   "file_extension": ".py",
   "mimetype": "text/x-python",
   "name": "python",
   "nbconvert_exporter": "python",
   "pygments_lexer": "ipython3",
   "version": "3.10.2"
  },
  "orig_nbformat": 4,
  "vscode": {
   "interpreter": {
    "hash": "7c12d72be3213e7f8702b6316db43fc41a31ebed98d72fce0d12fa49fb59f67c"
   }
  }
 },
 "nbformat": 4,
 "nbformat_minor": 2
}
